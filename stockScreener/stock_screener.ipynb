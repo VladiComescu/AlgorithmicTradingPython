{
  "nbformat": 4,
  "nbformat_minor": 0,
  "metadata": {
    "colab": {
      "name": "stock_screener.ipynb",
      "provenance": [],
      "collapsed_sections": []
    },
    "kernelspec": {
      "name": "python3",
      "display_name": "Python 3"
    }
  },
  "cells": [
    {
      "cell_type": "code",
      "metadata": {
        "id": "eAflfFzP_1-D"
      },
      "source": [
        "# Imports\n",
        "import requests\n",
        "import time\n",
        "import re\n",
        "import pandas as pd\n",
        "import pickle as pkl\n",
        "import os"
      ],
      "execution_count": 10,
      "outputs": []
    },
    {
      "cell_type": "code",
      "metadata": {
        "colab": {
          "base_uri": "https://localhost:8080/"
        },
        "id": "1KTsfvBhBD9i",
        "outputId": "f5d62955-8102-48c6-b4b9-21e8f3738673"
      },
      "source": [
        "# Only in colab\n",
        "from google.colab import drive\n",
        "drive.mount('/content/drive')"
      ],
      "execution_count": 2,
      "outputs": [
        {
          "output_type": "stream",
          "text": [
            "Mounted at /content/drive\n"
          ],
          "name": "stdout"
        }
      ]
    },
    {
      "cell_type": "code",
      "metadata": {
        "id": "A-ehU8wtA1Zk"
      },
      "source": [
        "# Search Instruments\n",
        "url = 'https://api.tdameritrade.com/v1/instruments'\n",
        "\n",
        "df = pd.read_csv('/content/drive/MyDrive/stockScreener/company_list.csv')\n",
        "symbols = df['Symbol'].values.tolist()"
      ],
      "execution_count": 3,
      "outputs": []
    },
    {
      "cell_type": "code",
      "metadata": {
        "id": "qt7B4qItdXCw"
      },
      "source": [
        "from secrets import Consumer_Key\n",
        "# Consumer_Key"
      ],
      "execution_count": 4,
      "outputs": []
    },
    {
      "cell_type": "code",
      "metadata": {
        "id": "9PscTyQ2pfgs"
      },
      "source": [
        "# Merging and extracting\n",
        "start = 0\n",
        "end = 500\n",
        "files = []\n",
        "while start < len(symbols):\n",
        "    tickers = symbols[start: end]\n",
        "    payload = {'apikey': Consumer_Key,\n",
        "               'symbol': tickers,\n",
        "               'projection': 'fundamental'}\n",
        "\n",
        "    results = requests.get(url, params=payload)\n",
        "    data = results.json()\n",
        "    f_name = time.asctime() + '.pkl'\n",
        "    f_name = re.sub('[ :]', '_', f_name)\n",
        "    files.append(f_name)\n",
        "    with open(f_name, 'wb') as file:\n",
        "        pkl.dump(data, file)\n",
        "\n",
        "    start = end\n",
        "    end += 500\n",
        "    time.sleep(1)"
      ],
      "execution_count": 17,
      "outputs": []
    },
    {
      "cell_type": "code",
      "metadata": {
        "id": "FVq64I85Kh4y"
      },
      "source": [
        "data = []\n",
        "\n",
        "for file in files:\n",
        "    with open(file, 'rb') as f:\n",
        "        info = pkl.load(f)\n",
        "    tickers = list(info)\n",
        "    points = ['symbol', 'netProfitMarginMRQ', 'peRatio', 'pegRatio', 'high52']\n",
        "    for ticker in tickers:\n",
        "        tick = []\n",
        "        for point in points:\n",
        "            tick.append(info[ticker]['fundamental'][point])\n",
        "        data.append(tick)\n",
        "    os.remove(file)"
      ],
      "execution_count": 18,
      "outputs": []
    },
    {
      "cell_type": "code",
      "metadata": {
        "id": "gbdF4g8ZMnOy"
      },
      "source": [
        "points = ['symbol', 'Margin', 'PE', 'PEG', 'high52']\n",
        "\n",
        "df_results = pd.DataFrame(data, columns=points)\n",
        "\n",
        "df_peg = df_results[\n",
        "    (df_results['PEG'] < 1) &\n",
        "    (df_results['PEG'] > 0) &\n",
        "    (df_results['Margin'] > 20) &\n",
        "    (df_results['PE'] > 10)]\n",
        "\n",
        "df_peg.sort_values(['PEG'])\n",
        "\n",
        "pd.set_option('display.max_rows', 2000)"
      ],
      "execution_count": 19,
      "outputs": []
    },
    {
      "cell_type": "code",
      "metadata": {
        "colab": {
          "base_uri": "https://localhost:8080/",
          "height": 54
        },
        "id": "iYF3DESTMy89",
        "outputId": "b93445ef-be2f-4cd1-859b-3fc37f944632"
      },
      "source": [
        "\"\"\"\n",
        "# Function to see data in tranches instead of one set\n",
        "def view(size):\n",
        "    start = 0\n",
        "    stop = size\n",
        "    while stop < len(df_peg):\n",
        "        print(df_peg[start: stop])\n",
        "        start = stop\n",
        "        stop += size\n",
        "    print(df_peg[start: stop])\n",
        "\n",
        "view(35)\n",
        "\"\"\""
      ],
      "execution_count": 20,
      "outputs": [
        {
          "output_type": "execute_result",
          "data": {
            "application/vnd.google.colaboratory.intrinsic+json": {
              "type": "string"
            },
            "text/plain": [
              "'\\n# Function to see data in tranches instead of one set\\ndef view(size):\\n    start = 0\\n    stop = size\\n    while stop < len(df_peg):\\n        print(df_peg[start: stop])\\n        start = stop\\n        stop += size\\n    print(df_peg[start: stop])\\n\\nview(35)\\n'"
            ]
          },
          "metadata": {
            "tags": []
          },
          "execution_count": 20
        }
      ]
    },
    {
      "cell_type": "code",
      "metadata": {
        "id": "RF7P-MTbAYOZ",
        "colab": {
          "base_uri": "https://localhost:8080/"
        },
        "outputId": "bd196fae-af15-426a-e805-2ff43d4f73dc"
      },
      "source": [
        "df_symbols = df_peg['symbol'].tolist()\n",
        "\n",
        "new = df['Symbol'].isin(df_symbols)\n",
        "\n",
        "companies = df[new]\n",
        "companies.reset_index()\n",
        "\n",
        "print(companies)"
      ],
      "execution_count": 21,
      "outputs": [
        {
          "output_type": "stream",
          "text": [
            "      Symbol  ...                                           Industry\n",
            "104     ACTG  ...                              Professional Services\n",
            "151     ATVI  ...                                      Entertainment\n",
            "192     ADBE  ...                                           Software\n",
            "210      AMD  ...           Semiconductors & Semiconductor Equipment\n",
            "211     AOXY  ...               Real Estate Management & Development\n",
            "257      AMG  ...                                    Capital Markets\n",
            "327     AIXN  ...                                       Distributors\n",
            "372      ARE  ...       Equity Real Estate Investment Trusts (REITs)\n",
            "420       AB  ...                                    Capital Markets\n",
            "423      NCV  ...                                                NaN\n",
            "424      NCZ  ...                                                NaN\n",
            "456      APT  ...                                  Building Products\n",
            "497       MO  ...                                            Tobacco\n",
            "599     AMNB  ...                                              Banks\n",
            "617     AMRB  ...                                              Banks\n",
            "639     ABCB  ...                                              Banks\n",
            "761     APPF  ...                                           Software\n",
            "774     AMAT  ...           Semiconductors & Semiconductor Equipment\n",
            "894     APAM  ...                                    Capital Markets\n",
            "923     AEEX  ...                                    Capital Markets\n",
            "957      AGO  ...                                          Insurance\n",
            "995       AY  ...  Independent Power & Renewable Electricity Prod...\n",
            "1051    ADSK  ...                                           Software\n",
            "1122      AX  ...                         Thrifts & Mortgage Finance\n",
            "1190    TBBK  ...                                              Banks\n",
            "1201     BFC  ...                                              Banks\n",
            "1215    BPRN  ...                                              Banks\n",
            "1216    BSFO  ...                                                NaN\n",
            "1291   BESIY  ...           Semiconductors & Semiconductor Equipment\n",
            "1393    BDSI  ...                                    Pharmaceuticals\n",
            "1550    TCPC  ...                                    Capital Markets\n",
            "1820    CABO  ...                                              Media\n",
            "1841     CAI  ...                   Trading Companies & Distributors\n",
            "1913      CP  ...                                        Road & Rail\n",
            "1974    CPTP  ...               Real Estate Management & Development\n",
            "2013    CTRE  ...       Equity Real Estate Investment Trusts (REITs)\n",
            "2045    CWST  ...                     Commercial Services & Supplies\n",
            "2229     CHE  ...                   Health Care Providers & Services\n",
            "2358    CHYL  ...                                                NaN\n",
            "2398    COFS  ...                                              Banks\n",
            "2446    CRUS  ...           Semiconductors & Semiconductor Equipment\n",
            "2483     CKX  ...               Real Estate Management & Development\n",
            "2511    CLRI  ...                           Communications Equipment\n",
            "2561    CCNB  ...                                                NaN\n",
            "2580    CODX  ...                   Health Care Equipment & Supplies\n",
            "2617    CBAN  ...                                              Banks\n",
            "2626     CXP  ...       Equity Real Estate Investment Trusts (REITs)\n",
            "2662    CHCT  ...       Equity Real Estate Investment Trusts (REITs)\n",
            "2673     SID  ...                                    Metals & Mining\n",
            "2731     STZ  ...                                          Beverages\n",
            "2773    CLGX  ...                                        IT Services\n",
            "2873    CROX  ...                   Textiles, Apparel & Luxury Goods\n",
            "2985    DBIN  ...                                              Banks\n",
            "3059    DECK  ...                   Textiles, Apparel & Luxury Goods\n",
            "3081     DKL  ...                        Oil, Gas & Consumable Fuels\n",
            "3126    DXCM  ...                   Health Care Equipment & Supplies\n",
            "3227       D  ...                                    Multi-Utilities\n",
            "3342     EXP  ...                             Construction Materials\n",
            "3379     EOS  ...                                                NaN\n",
            "3389     ETJ  ...                                                NaN\n",
            "3406    EBAY  ...                 Internet & Direct Marketing Retail\n",
            "3507     LLY  ...                                    Pharmaceuticals\n",
            "3511    ELTP  ...                                    Pharmaceuticals\n",
            "3542     EBS  ...                                      Biotechnology\n",
            "3570    ECIA  ...                   Health Care Equipment & Supplies\n",
            "3675    EOSS  ...                                                NaN\n",
            "3735    ESSA  ...                         Thrifts & Mortgage Finance\n",
            "3751    ETSY  ...                 Internet & Direct Marketing Retail\n",
            "3775     EVR  ...                                    Capital Markets\n",
            "3817      XP  ...                                    Capital Markets\n",
            "3855    FMBM  ...                                              Banks\n",
            "3860      FB  ...                       Interactive Media & Services\n",
            "3929    RACE  ...                                        Automobiles\n",
            "3988    FRBA  ...                                              Banks\n",
            "3995   FCNCB  ...                                              Banks\n",
            "3996   FCNCA  ...                                              Banks\n",
            "4011    FFWM  ...                                              Banks\n",
            "4015     FHN  ...                                              Banks\n",
            "4017    INBK  ...                                              Banks\n",
            "4034    FNWB  ...                                              Banks\n",
            "4209     FSP  ...       Equity Real Estate Investment Trusts (REITs)\n",
            "4220    FRHC  ...                                    Capital Markets\n",
            "4250    FRPH  ...               Real Estate Management & Development\n",
            "4268    FLGT  ...                   Health Care Providers & Services\n",
            "4345    GLPI  ...       Equity Real Estate Investment Trusts (REITs)\n",
            "4370     GCP  ...                                          Chemicals\n",
            "4460     GTY  ...       Equity Real Estate Investment Trusts (REITs)\n",
            "4552    GSMG  ...                                                NaN\n",
            "4618      GS  ...                                    Capital Markets\n",
            "4627    GBDC  ...                                    Capital Markets\n",
            "4836     GOF  ...                                                NaN\n",
            "4876    HALO  ...                                      Biotechnology\n",
            "4880    HLNE  ...                                    Capital Markets\n",
            "4904    HONE  ...                                              Banks\n",
            "4912     HMY  ...                                    Metals & Mining\n",
            "4947     HCI  ...                                          Insurance\n",
            "5057    HFBA  ...                                                NaN\n",
            "5081     HIW  ...       Equity Real Estate Investment Trusts (REITs)\n",
            "5092    HIFS  ...                         Thrifts & Mortgage Finance\n",
            "5096     HQI  ...                              Professional Services\n",
            "5119    HMLP  ...                        Oil, Gas & Consumable Fuels\n",
            "5131    HOLX  ...                   Health Care Equipment & Supplies\n",
            "5137    HFBL  ...                         Thrifts & Mortgage Finance\n",
            "5144    HMST  ...                         Thrifts & Mortgage Finance\n",
            "5183     HLI  ...                                    Capital Markets\n",
            "5271     IAC  ...                       Interactive Media & Services\n",
            "5319    IROQ  ...                         Thrifts & Mortgage Finance\n",
            "5427    ILPT  ...       Equity Real Estate Investment Trusts (REITs)\n",
            "5480    IIPR  ...       Equity Real Estate Investment Trusts (REITs)\n",
            "5517    IART  ...                   Health Care Equipment & Supplies\n",
            "5649    ISBC  ...                                              Banks\n",
            "5688    IRWD  ...                                      Biotechnology\n",
            "5916    KRNY  ...                         Thrifts & Mortgage Finance\n",
            "6059    KTOS  ...                                Aerospace & Defense\n",
            "6105      LH  ...                   Health Care Providers & Services\n",
            "6119    LRCX  ...           Semiconductors & Semiconductor Equipment\n",
            "6158     LAZ  ...                                    Capital Markets\n",
            "6233   LBRDA  ...                                              Media\n",
            "6245    LICT  ...             Diversified Telecommunication Services\n",
            "6319     LOB  ...                                              Banks\n",
            "6350    LOGI  ...         Technology Hardware, Storage & Peripherals\n",
            "6373     LPX  ...                            Paper & Forest Products\n",
            "6383     LTC  ...       Equity Real Estate Investment Trusts (REITs)\n",
            "6435    MCBK  ...                         Thrifts & Mortgage Finance\n",
            "6454      MX  ...           Semiconductors & Semiconductor Equipment\n",
            "6466    MNSB  ...                                              Banks\n",
            "6645    MJNA  ...                   Health Care Providers & Services\n",
            "6733    CASH  ...                         Thrifts & Mortgage Finance\n",
            "6750     MCB  ...                                              Banks\n",
            "6817    MCVT  ...                                                NaN\n",
            "6900      MC  ...                                    Capital Markets\n",
            "6954      MS  ...                                    Capital Markets\n",
            "6967     MOS  ...                                          Chemicals\n",
            "6986    COOP  ...                         Thrifts & Mortgage Finance\n",
            "7022    MVBF  ...                                              Banks\n",
            "7053     NTP  ...               Real Estate Management & Development\n",
            "7104     NSA  ...       Equity Real Estate Investment Trusts (REITs)\n",
            "7145     NNI  ...                                   Consumer Finance\n",
            "7191    NBIX  ...                                      Biotechnology\n",
            "7373   NHYDY  ...                                    Metals & Mining\n",
            "7413    NLOK  ...                                           Software\n",
            "7506     JMM  ...                                                NaN\n",
            "7581    OBCI  ...                                 Household Products\n",
            "7671     OLP  ...       Equity Real Estate Investment Trusts (REITs)\n",
            "7716    OPST  ...                                Aerospace & Defense\n",
            "7738    ORPB  ...                                              Banks\n",
            "7798    OTTW  ...                         Thrifts & Mortgage Finance\n",
            "7868    PAAS  ...                                    Metals & Mining\n",
            "7907    PCYG  ...                                           Software\n",
            "7909     PRK  ...                                              Banks\n",
            "7993    PFLT  ...                                    Capital Markets\n",
            "7994    PNNT  ...                                    Capital Markets\n",
            "8008    PFIS  ...                                              Banks\n",
            "8023     PKI  ...                     Life Sciences Tools & Services\n",
            "8179     PJT  ...                                    Capital Markets\n",
            "8220     PNM  ...                                 Electric Utilities\n",
            "8261     PCH  ...       Equity Real Estate Investment Trusts (REITs)\n",
            "8268      PW  ...       Equity Real Estate Investment Trusts (REITs)\n",
            "8342    PMHG  ...                                              Banks\n",
            "8357    PRTH  ...                                        IT Services\n",
            "8381    PGNY  ...                   Health Care Providers & Services\n",
            "8401      PB  ...                                              Banks\n",
            "8464   PNMXO  ...                                                NaN\n",
            "8465     PEG  ...                                    Multi-Utilities\n",
            "8511     PZN  ...                                    Capital Markets\n",
            "8525    QGEN  ...                     Life Sciences Tools & Services\n",
            "8544    QNTO  ...                         Thrifts & Mortgage Finance\n",
            "8546    QCOM  ...           Semiconductors & Semiconductor Equipment\n",
            "8596     RCM  ...                   Health Care Providers & Services\n",
            "8623    RAND  ...                                    Capital Markets\n",
            "8641    RTLR  ...                        Oil, Gas & Consumable Fuels\n",
            "8713    RAFI  ...                     Diversified Financial Services\n",
            "8715    REGN  ...                                      Biotechnology\n",
            "8740    RBNC  ...                                              Banks\n",
            "8788     RMD  ...                   Health Care Equipment & Supplies\n",
            "8806     RVP  ...                   Health Care Equipment & Supplies\n",
            "8838    RBBN  ...                           Communications Equipment\n",
            "8846    RMBI  ...                                              Banks\n",
            "8862     RIO  ...                                    Metals & Mining\n",
            "8872    RVRF  ...                                                NaN\n",
            "8908     ROK  ...                               Electrical Equipment\n",
            "9004    SBRA  ...       Equity Real Estate Investment Trusts (REITs)\n",
            "9071     SAP  ...                                           Software\n",
            "9119    SCIA  ...           Semiconductors & Semiconductor Equipment\n",
            "9127    SCPL  ...                                      Entertainment\n",
            "9165    SGEN  ...                                      Biotechnology\n",
            "9234     SCI  ...                      Diversified Consumer Services\n",
            "9242    SESI  ...           Semiconductors & Semiconductor Equipment\n",
            "9315    SIGL  ...                                                NaN\n",
            "9404    SWKS  ...           Semiconductors & Semiconductor Equipment\n",
            "9405     SLG  ...       Equity Real Estate Investment Trusts (REITs)\n",
            "9462     SWI  ...                                           Software\n",
            "9469    SODI  ...           Semiconductors & Semiconductor Equipment\n",
            "9486    SONO  ...                                 Household Durables\n",
            "9495    SFBC  ...                                              Banks\n",
            "9509    SCBS  ...                                                NaN\n",
            "9514    SMBC  ...                         Thrifts & Mortgage Finance\n",
            "9565    STXB  ...                                              Banks\n",
            "9599    SSRM  ...                                    Metals & Mining\n",
            "9605    STAG  ...       Equity Real Estate Investment Trusts (REITs)\n",
            "9610    STMP  ...                 Internet & Direct Marketing Retail\n",
            "9743    SPWR  ...           Semiconductors & Semiconductor Equipment\n",
            "9764    SUPN  ...                                    Pharmaceuticals\n",
            "9777    SSSS  ...                                    Capital Markets\n",
            "9816     TSM  ...           Semiconductors & Semiconductor Equipment\n",
            "9817    TTWO  ...                                      Entertainment\n",
            "9862     TGP  ...                        Oil, Gas & Consumable Fuels\n",
            "9900     TER  ...           Semiconductors & Semiconductor Equipment\n",
            "9917     TGH  ...                   Trading Companies & Distributors\n",
            "9949     TMO  ...                     Life Sciences Tools & Services\n",
            "10006     TW  ...                                    Capital Markets\n",
            "10045   TRIB  ...                   Health Care Equipment & Supplies\n",
            "10107     UI  ...                           Communications Equipment\n",
            "10119   UMBF  ...                                              Banks\n",
            "10130    UNB  ...                                              Banks\n",
            "10138   UBCP  ...                                              Banks\n",
            "10145    UMC  ...           Semiconductors & Semiconductor Equipment\n",
            "10154   UTHR  ...                                      Biotechnology\n",
            "10199   UTMD  ...                   Health Care Equipment & Supplies\n",
            "10216   VALU  ...                                    Capital Markets\n",
            "10251   VRSK  ...                              Professional Services\n",
            "10262   VRTX  ...                                      Biotechnology\n",
            "10271   VICI  ...       Equity Real Estate Investment Trusts (REITs)\n",
            "10346     WD  ...                         Thrifts & Mortgage Finance\n",
            "10360   WTRE  ...                                          Insurance\n",
            "10387   WTBA  ...                                              Banks\n",
            "10474    WPC  ...       Equity Real Estate Investment Trusts (REITs)\n",
            "10504   XPER  ...           Semiconductors & Semiconductor Equipment\n",
            "10538   ZDGE  ...                       Interactive Media & Services\n",
            "\n",
            "[229 rows x 4 columns]\n"
          ],
          "name": "stdout"
        }
      ]
    }
  ]
}